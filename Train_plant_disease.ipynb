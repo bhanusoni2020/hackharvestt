{
  "nbformat": 4,
  "nbformat_minor": 0,
  "metadata": {
    "colab": {
      "provenance": [],
      "authorship_tag": "ABX9TyNV2CMXb2GPe+O8SVS4dhDy",
      "include_colab_link": true
    },
    "kernelspec": {
      "name": "python3",
      "display_name": "Python 3"
    },
    "language_info": {
      "name": "python"
    }
  },
  "cells": [
    {
      "cell_type": "markdown",
      "metadata": {
        "id": "view-in-github",
        "colab_type": "text"
      },
      "source": [
        "<a href=\"https://colab.research.google.com/github/Pavneet922/AgriConnect.github.io/blob/main/Train_plant_disease.ipynb\" target=\"_parent\"><img src=\"https://colab.research.google.com/assets/colab-badge.svg\" alt=\"Open In Colab\"/></a>"
      ]
    },
    {
      "cell_type": "code",
      "execution_count": 13,
      "metadata": {
        "id": "NK8RUidcRao5"
      },
      "outputs": [],
      "source": [
        "import tensorflow as tf\n",
        "import matplotlib.pyplot as plt\n",
        "import pandas as pd\n",
        "import seaborn as sns"
      ]
    },
    {
      "cell_type": "code",
      "source": [
        "print(tf.config.list_physical_devices('GPU'))"
      ],
      "metadata": {
        "colab": {
          "base_uri": "https://localhost:8080/"
        },
        "id": "NBHL3D6ugzXI",
        "outputId": "a900197d-a89e-4b2f-8642-80e2017ca5d0"
      },
      "execution_count": 14,
      "outputs": [
        {
          "output_type": "stream",
          "name": "stdout",
          "text": [
            "[]\n"
          ]
        }
      ]
    },
    {
      "cell_type": "code",
      "source": [
        "# ! pip install -q kaggle\n",
        "\n",
        "# from google.colab import files\n",
        "\n",
        "# files.upload()"
      ],
      "metadata": {
        "colab": {
          "base_uri": "https://localhost:8080/",
          "height": 56
        },
        "id": "uR8fdZPxHVqa",
        "outputId": "56513c9b-fd1a-4d6a-fb40-fbd87c7ba712"
      },
      "execution_count": 15,
      "outputs": [
        {
          "output_type": "display_data",
          "data": {
            "text/plain": [
              "<IPython.core.display.HTML object>"
            ],
            "text/html": [
              "\n",
              "     <input type=\"file\" id=\"files-c126c4ad-ea1a-4a4b-8f06-f9499ee911af\" name=\"files[]\" multiple disabled\n",
              "        style=\"border:none\" />\n",
              "     <output id=\"result-c126c4ad-ea1a-4a4b-8f06-f9499ee911af\">\n",
              "      Upload widget is only available when the cell has been executed in the\n",
              "      current browser session. Please rerun this cell to enable.\n",
              "      </output>\n",
              "      <script>// Copyright 2017 Google LLC\n",
              "//\n",
              "// Licensed under the Apache License, Version 2.0 (the \"License\");\n",
              "// you may not use this file except in compliance with the License.\n",
              "// You may obtain a copy of the License at\n",
              "//\n",
              "//      http://www.apache.org/licenses/LICENSE-2.0\n",
              "//\n",
              "// Unless required by applicable law or agreed to in writing, software\n",
              "// distributed under the License is distributed on an \"AS IS\" BASIS,\n",
              "// WITHOUT WARRANTIES OR CONDITIONS OF ANY KIND, either express or implied.\n",
              "// See the License for the specific language governing permissions and\n",
              "// limitations under the License.\n",
              "\n",
              "/**\n",
              " * @fileoverview Helpers for google.colab Python module.\n",
              " */\n",
              "(function(scope) {\n",
              "function span(text, styleAttributes = {}) {\n",
              "  const element = document.createElement('span');\n",
              "  element.textContent = text;\n",
              "  for (const key of Object.keys(styleAttributes)) {\n",
              "    element.style[key] = styleAttributes[key];\n",
              "  }\n",
              "  return element;\n",
              "}\n",
              "\n",
              "// Max number of bytes which will be uploaded at a time.\n",
              "const MAX_PAYLOAD_SIZE = 100 * 1024;\n",
              "\n",
              "function _uploadFiles(inputId, outputId) {\n",
              "  const steps = uploadFilesStep(inputId, outputId);\n",
              "  const outputElement = document.getElementById(outputId);\n",
              "  // Cache steps on the outputElement to make it available for the next call\n",
              "  // to uploadFilesContinue from Python.\n",
              "  outputElement.steps = steps;\n",
              "\n",
              "  return _uploadFilesContinue(outputId);\n",
              "}\n",
              "\n",
              "// This is roughly an async generator (not supported in the browser yet),\n",
              "// where there are multiple asynchronous steps and the Python side is going\n",
              "// to poll for completion of each step.\n",
              "// This uses a Promise to block the python side on completion of each step,\n",
              "// then passes the result of the previous step as the input to the next step.\n",
              "function _uploadFilesContinue(outputId) {\n",
              "  const outputElement = document.getElementById(outputId);\n",
              "  const steps = outputElement.steps;\n",
              "\n",
              "  const next = steps.next(outputElement.lastPromiseValue);\n",
              "  return Promise.resolve(next.value.promise).then((value) => {\n",
              "    // Cache the last promise value to make it available to the next\n",
              "    // step of the generator.\n",
              "    outputElement.lastPromiseValue = value;\n",
              "    return next.value.response;\n",
              "  });\n",
              "}\n",
              "\n",
              "/**\n",
              " * Generator function which is called between each async step of the upload\n",
              " * process.\n",
              " * @param {string} inputId Element ID of the input file picker element.\n",
              " * @param {string} outputId Element ID of the output display.\n",
              " * @return {!Iterable<!Object>} Iterable of next steps.\n",
              " */\n",
              "function* uploadFilesStep(inputId, outputId) {\n",
              "  const inputElement = document.getElementById(inputId);\n",
              "  inputElement.disabled = false;\n",
              "\n",
              "  const outputElement = document.getElementById(outputId);\n",
              "  outputElement.innerHTML = '';\n",
              "\n",
              "  const pickedPromise = new Promise((resolve) => {\n",
              "    inputElement.addEventListener('change', (e) => {\n",
              "      resolve(e.target.files);\n",
              "    });\n",
              "  });\n",
              "\n",
              "  const cancel = document.createElement('button');\n",
              "  inputElement.parentElement.appendChild(cancel);\n",
              "  cancel.textContent = 'Cancel upload';\n",
              "  const cancelPromise = new Promise((resolve) => {\n",
              "    cancel.onclick = () => {\n",
              "      resolve(null);\n",
              "    };\n",
              "  });\n",
              "\n",
              "  // Wait for the user to pick the files.\n",
              "  const files = yield {\n",
              "    promise: Promise.race([pickedPromise, cancelPromise]),\n",
              "    response: {\n",
              "      action: 'starting',\n",
              "    }\n",
              "  };\n",
              "\n",
              "  cancel.remove();\n",
              "\n",
              "  // Disable the input element since further picks are not allowed.\n",
              "  inputElement.disabled = true;\n",
              "\n",
              "  if (!files) {\n",
              "    return {\n",
              "      response: {\n",
              "        action: 'complete',\n",
              "      }\n",
              "    };\n",
              "  }\n",
              "\n",
              "  for (const file of files) {\n",
              "    const li = document.createElement('li');\n",
              "    li.append(span(file.name, {fontWeight: 'bold'}));\n",
              "    li.append(span(\n",
              "        `(${file.type || 'n/a'}) - ${file.size} bytes, ` +\n",
              "        `last modified: ${\n",
              "            file.lastModifiedDate ? file.lastModifiedDate.toLocaleDateString() :\n",
              "                                    'n/a'} - `));\n",
              "    const percent = span('0% done');\n",
              "    li.appendChild(percent);\n",
              "\n",
              "    outputElement.appendChild(li);\n",
              "\n",
              "    const fileDataPromise = new Promise((resolve) => {\n",
              "      const reader = new FileReader();\n",
              "      reader.onload = (e) => {\n",
              "        resolve(e.target.result);\n",
              "      };\n",
              "      reader.readAsArrayBuffer(file);\n",
              "    });\n",
              "    // Wait for the data to be ready.\n",
              "    let fileData = yield {\n",
              "      promise: fileDataPromise,\n",
              "      response: {\n",
              "        action: 'continue',\n",
              "      }\n",
              "    };\n",
              "\n",
              "    // Use a chunked sending to avoid message size limits. See b/62115660.\n",
              "    let position = 0;\n",
              "    do {\n",
              "      const length = Math.min(fileData.byteLength - position, MAX_PAYLOAD_SIZE);\n",
              "      const chunk = new Uint8Array(fileData, position, length);\n",
              "      position += length;\n",
              "\n",
              "      const base64 = btoa(String.fromCharCode.apply(null, chunk));\n",
              "      yield {\n",
              "        response: {\n",
              "          action: 'append',\n",
              "          file: file.name,\n",
              "          data: base64,\n",
              "        },\n",
              "      };\n",
              "\n",
              "      let percentDone = fileData.byteLength === 0 ?\n",
              "          100 :\n",
              "          Math.round((position / fileData.byteLength) * 100);\n",
              "      percent.textContent = `${percentDone}% done`;\n",
              "\n",
              "    } while (position < fileData.byteLength);\n",
              "  }\n",
              "\n",
              "  // All done.\n",
              "  yield {\n",
              "    response: {\n",
              "      action: 'complete',\n",
              "    }\n",
              "  };\n",
              "}\n",
              "\n",
              "scope.google = scope.google || {};\n",
              "scope.google.colab = scope.google.colab || {};\n",
              "scope.google.colab._files = {\n",
              "  _uploadFiles,\n",
              "  _uploadFilesContinue,\n",
              "};\n",
              "})(self);\n",
              "</script> "
            ]
          },
          "metadata": {}
        },
        {
          "output_type": "execute_result",
          "data": {
            "text/plain": [
              "{}"
            ]
          },
          "metadata": {},
          "execution_count": 15
        }
      ]
    },
    {
      "cell_type": "code",
      "source": [
        "# ! mkdir ~/.kaggle\n",
        "\n",
        "# ! cp kaggle.json ~/.kaggle/"
      ],
      "metadata": {
        "colab": {
          "base_uri": "https://localhost:8080/"
        },
        "id": "DCwVhFe5HlEj",
        "outputId": "f38ea5f3-55f6-4362-afe2-76f4bc0bf9ba"
      },
      "execution_count": 16,
      "outputs": [
        {
          "output_type": "stream",
          "name": "stdout",
          "text": [
            "mkdir: cannot create directory ‘/root/.kaggle’: File exists\n"
          ]
        }
      ]
    },
    {
      "cell_type": "code",
      "source": [
        "# ! chmod 600 ~/.kaggle/kaggle.json"
      ],
      "metadata": {
        "id": "qBdovh9UIhMi"
      },
      "execution_count": 17,
      "outputs": []
    },
    {
      "cell_type": "code",
      "source": [
        "# ! chmod 600 ~/.kaggle/kaggle.json"
      ],
      "metadata": {
        "id": "hVzXUnsRImS5"
      },
      "execution_count": 18,
      "outputs": []
    },
    {
      "cell_type": "code",
      "source": [
        "# !kaggle datasets download -d vipoooool/new-plant-diseases-dataset -p /content"
      ],
      "metadata": {
        "colab": {
          "base_uri": "https://localhost:8080/"
        },
        "id": "3QRQILP9s2et",
        "outputId": "a6826bdb-8cf7-47c8-8ec1-14b259bbfd14"
      },
      "execution_count": 19,
      "outputs": [
        {
          "output_type": "stream",
          "name": "stdout",
          "text": [
            "Dataset URL: https://www.kaggle.com/datasets/vipoooool/new-plant-diseases-dataset\n",
            "License(s): copyright-authors\n",
            "new-plant-diseases-dataset.zip: Skipping, found more recently modified local copy (use --force to force download)\n"
          ]
        }
      ]
    },
    {
      "cell_type": "code",
      "source": [
        "# import zipfile\n",
        "# zip_ref = zipfile.ZipFile('new-plant-diseases-dataset.zip', 'r')\n",
        "# zip_ref.extractall('/content')\n",
        "# zip_ref.close()"
      ],
      "metadata": {
        "id": "M1sVUYaGJJwp"
      },
      "execution_count": 20,
      "outputs": []
    },
    {
      "cell_type": "markdown",
      "source": [
        "# Data Preprocessing\n",
        "### Training Image Preprocessing"
      ],
      "metadata": {
        "id": "O9UIWMnPKU-3"
      }
    },
    {
      "cell_type": "code",
      "source": [
        "training_set = tf.keras.utils.image_dataset_from_directory(\n",
        "    \"/content/New Plant Diseases Dataset(Augmented)/New Plant Diseases Dataset(Augmented)/train\",\n",
        "    labels = \"inferred\",\n",
        "    label_mode = \"categorical\",\n",
        "    class_names = None,\n",
        "    color_mode = \"rgb\",\n",
        "    batch_size = 32,\n",
        "    image_size = (128, 128),\n",
        "    shuffle = True,\n",
        "    seed = None,\n",
        "    validation_split = None,\n",
        "    subset = None,\n",
        "    interpolation = \"bilinear\",\n",
        "    follow_links = False,\n",
        "    crop_to_aspect_ratio = False,\n",
        "    data_format = None\n",
        ")"
      ],
      "metadata": {
        "id": "wJQAqLalhIb0",
        "colab": {
          "base_uri": "https://localhost:8080/"
        },
        "outputId": "0a6a9d05-aa44-4a17-8fbb-ae210e666db3"
      },
      "execution_count": 21,
      "outputs": [
        {
          "metadata": {
            "tags": null
          },
          "name": "stdout",
          "output_type": "stream",
          "text": [
            "Found 70295 files belonging to 38 classes.\n"
          ]
        }
      ]
    },
    {
      "cell_type": "markdown",
      "source": [
        "### Validation Image Preprocessing"
      ],
      "metadata": {
        "id": "Gd9fSmaNKhnO"
      }
    },
    {
      "cell_type": "code",
      "source": [
        "validation_set = tf.keras.utils.image_dataset_from_directory(\n",
        "    \"/content/New Plant Diseases Dataset(Augmented)/New Plant Diseases Dataset(Augmented)/valid\",\n",
        "    labels = \"inferred\",\n",
        "    label_mode = \"categorical\",\n",
        "    class_names = None,\n",
        "    color_mode = \"rgb\",\n",
        "    batch_size = 32,\n",
        "    image_size = (128, 128),\n",
        "    shuffle = True,\n",
        "    seed = None,\n",
        "    validation_split = None,\n",
        "    subset = None,\n",
        "    interpolation = \"bilinear\",\n",
        "    follow_links = False,\n",
        "    crop_to_aspect_ratio = False,\n",
        "    data_format = None\n",
        ")"
      ],
      "metadata": {
        "colab": {
          "base_uri": "https://localhost:8080/"
        },
        "id": "76OBNvXqKF1C",
        "outputId": "0e8feaf5-3277-4de5-fd24-5f8405df53f9"
      },
      "execution_count": 22,
      "outputs": [
        {
          "metadata": {
            "tags": null
          },
          "name": "stdout",
          "output_type": "stream",
          "text": [
            "Found 17572 files belonging to 38 classes.\n"
          ]
        }
      ]
    },
    {
      "cell_type": "code",
      "source": [
        "training_set"
      ],
      "metadata": {
        "colab": {
          "base_uri": "https://localhost:8080/"
        },
        "id": "F4Jfx9ERKMwX",
        "outputId": "a363f838-2e30-41ff-f132-5ad11adb7b29"
      },
      "execution_count": 23,
      "outputs": [
        {
          "data": {
            "text/plain": [
              "<_PrefetchDataset element_spec=(TensorSpec(shape=(None, 128, 128, 3), dtype=tf.float32, name=None), TensorSpec(shape=(None, 38), dtype=tf.float32, name=None))>"
            ]
          },
          "execution_count": 23,
          "metadata": {},
          "output_type": "execute_result"
        }
      ]
    },
    {
      "cell_type": "code",
      "source": [
        "for x, y in training_set:\n",
        "  print(x, x.shape)\n",
        "  print(y, y.shape)\n",
        "  break"
      ],
      "metadata": {
        "colab": {
          "base_uri": "https://localhost:8080/"
        },
        "collapsed": true,
        "id": "0zPhRW04LH5V",
        "outputId": "5afa7628-ec7f-432b-9558-5c6144735aa7"
      },
      "execution_count": 24,
      "outputs": [
        {
          "metadata": {
            "tags": null
          },
          "name": "stdout",
          "output_type": "stream",
          "text": [
            "tf.Tensor(\n",
            "[[[[127.   119.   130.  ]\n",
            "   [141.   133.   144.  ]\n",
            "   [124.25 116.25 127.25]\n",
            "   ...\n",
            "   [114.5  107.5  115.5 ]\n",
            "   [110.25 103.25 111.25]\n",
            "   [121.25 114.25 122.25]]\n",
            "\n",
            "  [[136.75 128.75 139.75]\n",
            "   [132.5  124.5  135.5 ]\n",
            "   [131.   123.   134.  ]\n",
            "   ...\n",
            "   [121.   114.   122.  ]\n",
            "   [116.   109.   117.  ]\n",
            "   [111.5  104.5  112.5 ]]\n",
            "\n",
            "  [[139.   131.   142.  ]\n",
            "   [135.75 127.75 138.75]\n",
            "   [132.   124.   135.  ]\n",
            "   ...\n",
            "   [120.5  113.5  121.5 ]\n",
            "   [104.25  97.25 105.25]\n",
            "   [114.25 107.25 115.25]]\n",
            "\n",
            "  ...\n",
            "\n",
            "  [[200.5  194.5  196.5 ]\n",
            "   [174.5  168.5  170.5 ]\n",
            "   [177.   171.   173.  ]\n",
            "   ...\n",
            "   [136.   124.   124.  ]\n",
            "   [134.5  122.5  122.5 ]\n",
            "   [129.   117.   117.  ]]\n",
            "\n",
            "  [[188.5  182.5  184.5 ]\n",
            "   [204.25 198.25 200.25]\n",
            "   [182.   176.   178.  ]\n",
            "   ...\n",
            "   [122.   110.   110.  ]\n",
            "   [133.   121.   121.  ]\n",
            "   [126.25 114.25 114.25]]\n",
            "\n",
            "  [[174.5  168.5  170.5 ]\n",
            "   [179.5  173.5  175.5 ]\n",
            "   [176.75 170.75 172.75]\n",
            "   ...\n",
            "   [144.   132.   132.  ]\n",
            "   [128.   116.   116.  ]\n",
            "   [129.5  117.5  117.5 ]]]\n",
            "\n",
            "\n",
            " [[[150.5  145.5  142.5 ]\n",
            "   [151.5  146.5  143.5 ]\n",
            "   [155.   150.   147.  ]\n",
            "   ...\n",
            "   [125.25 117.25 114.25]\n",
            "   [131.   123.   120.  ]\n",
            "   [126.5  118.5  115.5 ]]\n",
            "\n",
            "  [[157.75 152.75 149.75]\n",
            "   [158.   153.   150.  ]\n",
            "   [158.   153.   150.  ]\n",
            "   ...\n",
            "   [127.25 119.25 116.25]\n",
            "   [127.   119.   116.  ]\n",
            "   [123.75 115.75 112.75]]\n",
            "\n",
            "  [[157.25 152.25 149.25]\n",
            "   [150.   145.   142.  ]\n",
            "   [145.   140.   137.  ]\n",
            "   ...\n",
            "   [123.25 115.25 112.25]\n",
            "   [125.75 117.75 114.75]\n",
            "   [118.5  110.5  107.5 ]]\n",
            "\n",
            "  ...\n",
            "\n",
            "  [[145.25 137.25 135.25]\n",
            "   [150.25 142.25 140.25]\n",
            "   [144.   136.   134.  ]\n",
            "   ...\n",
            "   [111.75 100.75  98.75]\n",
            "   [106.5   95.5   93.5 ]\n",
            "   [113.5  102.5  100.5 ]]\n",
            "\n",
            "  [[137.25 129.25 127.25]\n",
            "   [141.25 133.25 131.25]\n",
            "   [130.5  122.5  120.5 ]\n",
            "   ...\n",
            "   [114.25 103.25 101.25]\n",
            "   [118.   107.   105.  ]\n",
            "   [111.75 100.75  98.75]]\n",
            "\n",
            "  [[142.   134.   132.  ]\n",
            "   [146.   138.   136.  ]\n",
            "   [145.5  137.5  135.5 ]\n",
            "   ...\n",
            "   [114.5  103.5  101.5 ]\n",
            "   [110.25  99.25  97.25]\n",
            "   [109.75  98.75  96.75]]]\n",
            "\n",
            "\n",
            " [[[173.   165.   176.  ]\n",
            "   [168.   160.   171.  ]\n",
            "   [169.   161.   172.  ]\n",
            "   ...\n",
            "   [151.75 144.75 152.75]\n",
            "   [152.   145.   153.  ]\n",
            "   [148.25 141.25 149.25]]\n",
            "\n",
            "  [[157.25 149.25 160.25]\n",
            "   [162.   154.   165.  ]\n",
            "   [165.5  157.5  168.5 ]\n",
            "   ...\n",
            "   [143.25 136.25 144.25]\n",
            "   [130.   123.   131.  ]\n",
            "   [144.75 137.75 145.75]]\n",
            "\n",
            "  [[158.5  150.5  161.5 ]\n",
            "   [159.75 151.75 162.75]\n",
            "   [157.5  149.5  160.5 ]\n",
            "   ...\n",
            "   [155.5  148.5  156.5 ]\n",
            "   [147.5  140.5  148.5 ]\n",
            "   [134.   127.   135.  ]]\n",
            "\n",
            "  ...\n",
            "\n",
            "  [[169.   159.   168.  ]\n",
            "   [152.75 142.75 151.75]\n",
            "   [157.25 147.25 156.25]\n",
            "   ...\n",
            "   [126.25 115.25 123.25]\n",
            "   [124.25 113.25 121.25]\n",
            "   [117.   106.   114.  ]]\n",
            "\n",
            "  [[144.25 134.25 143.25]\n",
            "   [163.25 153.25 162.25]\n",
            "   [157.   147.   156.  ]\n",
            "   ...\n",
            "   [121.   110.   118.  ]\n",
            "   [131.   120.   128.  ]\n",
            "   [114.5  103.5  111.5 ]]\n",
            "\n",
            "  [[164.   154.   163.  ]\n",
            "   [150.25 140.25 149.25]\n",
            "   [167.   157.   166.  ]\n",
            "   ...\n",
            "   [113.75 102.75 110.75]\n",
            "   [130.75 119.75 127.75]\n",
            "   [120.75 109.75 117.75]]]\n",
            "\n",
            "\n",
            " ...\n",
            "\n",
            "\n",
            " [[[ 85.75  80.75  87.75]\n",
            "   [ 85.5   80.5   87.5 ]\n",
            "   [ 85.25  80.25  87.25]\n",
            "   ...\n",
            "   [135.75 142.75  63.75]\n",
            "   [143.5  149.5   76.5 ]\n",
            "   [148.25 153.25  86.25]]\n",
            "\n",
            "  [[ 84.5   79.5   86.5 ]\n",
            "   [ 84.75  79.75  86.75]\n",
            "   [ 85.    80.    87.  ]\n",
            "   ...\n",
            "   [134.25 141.    64.5 ]\n",
            "   [134.75 140.75  68.75]\n",
            "   [139.5  144.5   77.5 ]]\n",
            "\n",
            "  [[ 82.75  77.75  84.75]\n",
            "   [ 83.5   78.5   85.5 ]\n",
            "   [ 84.75  79.75  86.75]\n",
            "   ...\n",
            "   [137.75 143.75  71.75]\n",
            "   [151.   156.25  88.5 ]\n",
            "   [149.25 154.25  88.  ]]\n",
            "\n",
            "  ...\n",
            "\n",
            "  [[144.5  147.5  156.5 ]\n",
            "   [146.25 149.25 158.25]\n",
            "   [149.25 152.25 161.25]\n",
            "   ...\n",
            "   [122.5  122.5  122.5 ]\n",
            "   [122.5  122.5  122.5 ]\n",
            "   [122.   122.   122.  ]]\n",
            "\n",
            "  [[148.5  151.5  160.5 ]\n",
            "   [150.   153.   162.  ]\n",
            "   [152.   155.   164.  ]\n",
            "   ...\n",
            "   [120.75 120.75 120.75]\n",
            "   [120.5  120.5  120.5 ]\n",
            "   [121.   121.   121.  ]]\n",
            "\n",
            "  [[153.75 156.75 165.75]\n",
            "   [153.5  156.5  165.5 ]\n",
            "   [153.   156.   165.  ]\n",
            "   ...\n",
            "   [120.5  120.5  120.5 ]\n",
            "   [118.75 118.75 118.75]\n",
            "   [117.5  117.5  117.5 ]]]\n",
            "\n",
            "\n",
            " [[[172.5  165.5  172.5 ]\n",
            "   [152.75 145.75 152.75]\n",
            "   [164.75 157.75 164.75]\n",
            "   ...\n",
            "   [  8.5   13.5   19.5 ]\n",
            "   [  6.5   11.5   17.5 ]\n",
            "   [  8.    13.    19.  ]]\n",
            "\n",
            "  [[171.25 164.25 171.25]\n",
            "   [148.   141.   148.  ]\n",
            "   [153.5  146.5  153.5 ]\n",
            "   ...\n",
            "   [  9.25  14.25  20.25]\n",
            "   [  7.25  12.25  18.25]\n",
            "   [  8.75  13.75  19.75]]\n",
            "\n",
            "  [[162.   155.   162.  ]\n",
            "   [181.25 174.25 181.25]\n",
            "   [156.   149.   156.  ]\n",
            "   ...\n",
            "   [ 10.    15.    21.  ]\n",
            "   [  7.75  12.75  18.75]\n",
            "   [  9.25  14.25  20.25]]\n",
            "\n",
            "  ...\n",
            "\n",
            "  [[201.75 196.75 200.75]\n",
            "   [199.   194.   198.  ]\n",
            "   [204.   199.   203.  ]\n",
            "   ...\n",
            "   [185.5  179.5  183.5 ]\n",
            "   [159.5  153.5  157.5 ]\n",
            "   [181.5  175.5  179.5 ]]\n",
            "\n",
            "  [[186.5  181.5  185.5 ]\n",
            "   [191.   186.   190.  ]\n",
            "   [188.75 183.75 187.75]\n",
            "   ...\n",
            "   [168.   162.   166.  ]\n",
            "   [165.   159.   163.  ]\n",
            "   [188.   182.   186.  ]]\n",
            "\n",
            "  [[185.25 180.25 184.25]\n",
            "   [184.   179.   183.  ]\n",
            "   [190.75 185.75 189.75]\n",
            "   ...\n",
            "   [183.25 177.25 181.25]\n",
            "   [183.5  177.5  181.5 ]\n",
            "   [160.   154.   158.  ]]]\n",
            "\n",
            "\n",
            " [[[147.75 145.75 150.75]\n",
            "   [147.5  145.5  150.5 ]\n",
            "   [150.25 148.25 153.25]\n",
            "   ...\n",
            "   [113.75 103.75 102.75]\n",
            "   [116.5  106.5  105.5 ]\n",
            "   [112.75 102.75 101.75]]\n",
            "\n",
            "  [[152.   150.   155.  ]\n",
            "   [152.5  150.5  155.5 ]\n",
            "   [154.   152.   157.  ]\n",
            "   ...\n",
            "   [117.5  107.5  106.5 ]\n",
            "   [124.   114.   113.  ]\n",
            "   [119.25 109.25 108.25]]\n",
            "\n",
            "  [[154.   152.   157.  ]\n",
            "   [155.   153.   158.  ]\n",
            "   [154.75 152.75 157.75]\n",
            "   ...\n",
            "   [127.   117.   116.  ]\n",
            "   [115.   105.   104.  ]\n",
            "   [111.25 101.25 100.25]]\n",
            "\n",
            "  ...\n",
            "\n",
            "  [[160.25 156.25 157.25]\n",
            "   [159.75 155.75 156.75]\n",
            "   [161.25 157.25 158.25]\n",
            "   ...\n",
            "   [107.5   96.5   94.5 ]\n",
            "   [106.5   95.5   93.5 ]\n",
            "   [108.75  97.75  95.75]]\n",
            "\n",
            "  [[162.75 158.75 159.75]\n",
            "   [159.75 155.75 156.75]\n",
            "   [159.5  155.5  156.5 ]\n",
            "   ...\n",
            "   [106.75  95.75  93.75]\n",
            "   [108.5   97.5   95.5 ]\n",
            "   [114.25 103.25 101.25]]\n",
            "\n",
            "  [[162.75 158.75 159.75]\n",
            "   [158.75 154.75 155.75]\n",
            "   [159.   155.   156.  ]\n",
            "   ...\n",
            "   [112.75 101.75  99.75]\n",
            "   [113.25 102.25 100.25]\n",
            "   [107.5   96.5   94.5 ]]]], shape=(32, 128, 128, 3), dtype=float32) (32, 128, 128, 3)\n",
            "tf.Tensor(\n",
            "[[0. 0. 0. ... 0. 0. 0.]\n",
            " [0. 0. 0. ... 0. 0. 0.]\n",
            " [0. 0. 0. ... 0. 0. 0.]\n",
            " ...\n",
            " [0. 0. 0. ... 0. 0. 0.]\n",
            " [0. 0. 0. ... 0. 0. 0.]\n",
            " [0. 0. 0. ... 0. 0. 0.]], shape=(32, 38), dtype=float32) (32, 38)\n"
          ]
        }
      ]
    },
    {
      "cell_type": "markdown",
      "source": [
        "#Building Model"
      ],
      "metadata": {
        "id": "deeDl6u6sTwq"
      }
    },
    {
      "cell_type": "code",
      "source": [
        "from tensorflow.keras.layers import Dense, Conv2D, MaxPooling2D, Flatten, Dropout\n",
        "from tensorflow.keras.models import Sequential"
      ],
      "metadata": {
        "id": "_UEUdk02LfQq"
      },
      "execution_count": 25,
      "outputs": []
    },
    {
      "cell_type": "code",
      "source": [
        "model = Sequential()"
      ],
      "metadata": {
        "id": "Gnfy4zsggYKy"
      },
      "execution_count": 26,
      "outputs": []
    },
    {
      "cell_type": "markdown",
      "source": [
        "##Building Convolution Layer"
      ],
      "metadata": {
        "id": "3PE4XOqkgeRQ"
      }
    },
    {
      "cell_type": "code",
      "source": [
        "model.add(Conv2D(filters = 32, kernel_size=3, padding=\"same\", activation=\"relu\", input_shape=[128, 128, 3]))\n",
        "model.add(Conv2D(filters=32, kernel_size=3, activation=\"relu\"))\n",
        "model.add(MaxPooling2D(pool_size=2, strides=2))"
      ],
      "metadata": {
        "colab": {
          "base_uri": "https://localhost:8080/"
        },
        "id": "hyodRZy6gbzl",
        "outputId": "2d00f4d9-ab7e-4072-a2b2-1928cf07fbc8"
      },
      "execution_count": 27,
      "outputs": [
        {
          "metadata": {
            "tags": null
          },
          "name": "stderr",
          "output_type": "stream",
          "text": [
            "/usr/local/lib/python3.11/dist-packages/keras/src/layers/convolutional/base_conv.py:107: UserWarning: Do not pass an `input_shape`/`input_dim` argument to a layer. When using Sequential models, prefer using an `Input(shape)` object as the first layer in the model instead.\n",
            "  super().__init__(activity_regularizer=activity_regularizer, **kwargs)\n"
          ]
        }
      ]
    },
    {
      "cell_type": "code",
      "source": [
        "model.add(Conv2D(filters = 64, kernel_size = 3, padding = \"same\", activation = \"relu\"))\n",
        "model.add(Conv2D(filters = 64, kernel_size = 3, activation = \"relu\"))\n",
        "model.add(MaxPooling2D(pool_size = 2, strides = 2))"
      ],
      "metadata": {
        "id": "kYuuP9klkLT-"
      },
      "execution_count": 28,
      "outputs": []
    },
    {
      "cell_type": "code",
      "source": [
        "model.add(Conv2D(filters = 128, kernel_size = 3, padding = \"same\", activation = \"relu\"))\n",
        "model.add(Conv2D(filters = 128, kernel_size = 3, activation = \"relu\"))\n",
        "model.add(MaxPooling2D(pool_size = 2, strides = 2))"
      ],
      "metadata": {
        "id": "UxhyeL1UkL-h"
      },
      "execution_count": 29,
      "outputs": []
    },
    {
      "cell_type": "code",
      "source": [
        "model.add(Conv2D(filters = 256, kernel_size = 3, padding = \"same\", activation = \"relu\"))\n",
        "model.add(Conv2D(filters = 256, kernel_size = 3, activation = \"relu\"))\n",
        "model.add(MaxPooling2D(pool_size = 2, strides = 2))"
      ],
      "metadata": {
        "id": "PsTBWxvfs5Kg"
      },
      "execution_count": 30,
      "outputs": []
    },
    {
      "cell_type": "code",
      "source": [
        "model.add(Conv2D(filters = 512, kernel_size = 3, padding = \"same\", activation = \"relu\"))\n",
        "model.add(Conv2D(filters = 512, kernel_size = 3, activation = \"relu\"))\n",
        "model.add(MaxPooling2D(pool_size = 2, strides = 2))"
      ],
      "metadata": {
        "id": "RPNcjs2ckO4N"
      },
      "execution_count": 31,
      "outputs": []
    },
    {
      "cell_type": "code",
      "source": [
        "model.add(Dropout(0.25)) #to avoid overshooting"
      ],
      "metadata": {
        "id": "Gub3gbhIuD0t"
      },
      "execution_count": 32,
      "outputs": []
    },
    {
      "cell_type": "code",
      "source": [
        "model.add(Flatten())"
      ],
      "metadata": {
        "id": "fUv0s2dGkTbp"
      },
      "execution_count": 33,
      "outputs": []
    },
    {
      "cell_type": "code",
      "source": [
        "model.add(Dense(units = 1500, activation = \"relu\"))"
      ],
      "metadata": {
        "id": "cAc1FTsIkaEo"
      },
      "execution_count": 34,
      "outputs": []
    },
    {
      "cell_type": "code",
      "source": [
        "model.add(Dropout(0.4))"
      ],
      "metadata": {
        "id": "UjbUWqpzuLPC"
      },
      "execution_count": 35,
      "outputs": []
    },
    {
      "cell_type": "code",
      "source": [
        "#Output Layer\n",
        "model.add(Dense(units = 38, activation = \"softmax\"))"
      ],
      "metadata": {
        "id": "I2l0UXvhkhAK"
      },
      "execution_count": 36,
      "outputs": []
    },
    {
      "cell_type": "markdown",
      "source": [
        "##Compiling Model"
      ],
      "metadata": {
        "id": "D1yZe8eZlF2i"
      }
    },
    {
      "cell_type": "code",
      "source": [
        "model.compile(optimizer = tf.keras.optimizers.Adam(learning_rate = 0.0001), loss = \"categorical_crossentropy\", metrics =[\"accuracy\"])"
      ],
      "metadata": {
        "id": "yxIWLMkElJ6Q"
      },
      "execution_count": 37,
      "outputs": []
    },
    {
      "cell_type": "code",
      "source": [
        "model.summary()"
      ],
      "metadata": {
        "colab": {
          "base_uri": "https://localhost:8080/",
          "height": 769
        },
        "id": "2lpmOmsllgNA",
        "outputId": "47038f85-a89e-4bff-b5c9-089a0f6e6cca"
      },
      "execution_count": 38,
      "outputs": [
        {
          "data": {
            "text/html": [
              "<pre style=\"white-space:pre;overflow-x:auto;line-height:normal;font-family:Menlo,'DejaVu Sans Mono',consolas,'Courier New',monospace\"><span style=\"font-weight: bold\">Model: \"sequential\"</span>\n",
              "</pre>\n"
            ],
            "text/plain": [
              "\u001b[1mModel: \"sequential\"\u001b[0m\n"
            ]
          },
          "metadata": {},
          "output_type": "display_data"
        },
        {
          "data": {
            "text/html": [
              "<pre style=\"white-space:pre;overflow-x:auto;line-height:normal;font-family:Menlo,'DejaVu Sans Mono',consolas,'Courier New',monospace\">┏━━━━━━━━━━━━━━━━━━━━━━━━━━━━━━━━━━━━━━┳━━━━━━━━━━━━━━━━━━━━━━━━━━━━━┳━━━━━━━━━━━━━━━━━┓\n",
              "┃<span style=\"font-weight: bold\"> Layer (type)                         </span>┃<span style=\"font-weight: bold\"> Output Shape                </span>┃<span style=\"font-weight: bold\">         Param # </span>┃\n",
              "┡━━━━━━━━━━━━━━━━━━━━━━━━━━━━━━━━━━━━━━╇━━━━━━━━━━━━━━━━━━━━━━━━━━━━━╇━━━━━━━━━━━━━━━━━┩\n",
              "│ conv2d (<span style=\"color: #0087ff; text-decoration-color: #0087ff\">Conv2D</span>)                      │ (<span style=\"color: #00d7ff; text-decoration-color: #00d7ff\">None</span>, <span style=\"color: #00af00; text-decoration-color: #00af00\">128</span>, <span style=\"color: #00af00; text-decoration-color: #00af00\">128</span>, <span style=\"color: #00af00; text-decoration-color: #00af00\">32</span>)        │             <span style=\"color: #00af00; text-decoration-color: #00af00\">896</span> │\n",
              "├──────────────────────────────────────┼─────────────────────────────┼─────────────────┤\n",
              "│ conv2d_1 (<span style=\"color: #0087ff; text-decoration-color: #0087ff\">Conv2D</span>)                    │ (<span style=\"color: #00d7ff; text-decoration-color: #00d7ff\">None</span>, <span style=\"color: #00af00; text-decoration-color: #00af00\">126</span>, <span style=\"color: #00af00; text-decoration-color: #00af00\">126</span>, <span style=\"color: #00af00; text-decoration-color: #00af00\">32</span>)        │           <span style=\"color: #00af00; text-decoration-color: #00af00\">9,248</span> │\n",
              "├──────────────────────────────────────┼─────────────────────────────┼─────────────────┤\n",
              "│ max_pooling2d (<span style=\"color: #0087ff; text-decoration-color: #0087ff\">MaxPooling2D</span>)         │ (<span style=\"color: #00d7ff; text-decoration-color: #00d7ff\">None</span>, <span style=\"color: #00af00; text-decoration-color: #00af00\">63</span>, <span style=\"color: #00af00; text-decoration-color: #00af00\">63</span>, <span style=\"color: #00af00; text-decoration-color: #00af00\">32</span>)          │               <span style=\"color: #00af00; text-decoration-color: #00af00\">0</span> │\n",
              "├──────────────────────────────────────┼─────────────────────────────┼─────────────────┤\n",
              "│ conv2d_2 (<span style=\"color: #0087ff; text-decoration-color: #0087ff\">Conv2D</span>)                    │ (<span style=\"color: #00d7ff; text-decoration-color: #00d7ff\">None</span>, <span style=\"color: #00af00; text-decoration-color: #00af00\">63</span>, <span style=\"color: #00af00; text-decoration-color: #00af00\">63</span>, <span style=\"color: #00af00; text-decoration-color: #00af00\">64</span>)          │          <span style=\"color: #00af00; text-decoration-color: #00af00\">18,496</span> │\n",
              "├──────────────────────────────────────┼─────────────────────────────┼─────────────────┤\n",
              "│ conv2d_3 (<span style=\"color: #0087ff; text-decoration-color: #0087ff\">Conv2D</span>)                    │ (<span style=\"color: #00d7ff; text-decoration-color: #00d7ff\">None</span>, <span style=\"color: #00af00; text-decoration-color: #00af00\">61</span>, <span style=\"color: #00af00; text-decoration-color: #00af00\">61</span>, <span style=\"color: #00af00; text-decoration-color: #00af00\">64</span>)          │          <span style=\"color: #00af00; text-decoration-color: #00af00\">36,928</span> │\n",
              "├──────────────────────────────────────┼─────────────────────────────┼─────────────────┤\n",
              "│ max_pooling2d_1 (<span style=\"color: #0087ff; text-decoration-color: #0087ff\">MaxPooling2D</span>)       │ (<span style=\"color: #00d7ff; text-decoration-color: #00d7ff\">None</span>, <span style=\"color: #00af00; text-decoration-color: #00af00\">30</span>, <span style=\"color: #00af00; text-decoration-color: #00af00\">30</span>, <span style=\"color: #00af00; text-decoration-color: #00af00\">64</span>)          │               <span style=\"color: #00af00; text-decoration-color: #00af00\">0</span> │\n",
              "├──────────────────────────────────────┼─────────────────────────────┼─────────────────┤\n",
              "│ conv2d_4 (<span style=\"color: #0087ff; text-decoration-color: #0087ff\">Conv2D</span>)                    │ (<span style=\"color: #00d7ff; text-decoration-color: #00d7ff\">None</span>, <span style=\"color: #00af00; text-decoration-color: #00af00\">30</span>, <span style=\"color: #00af00; text-decoration-color: #00af00\">30</span>, <span style=\"color: #00af00; text-decoration-color: #00af00\">128</span>)         │          <span style=\"color: #00af00; text-decoration-color: #00af00\">73,856</span> │\n",
              "├──────────────────────────────────────┼─────────────────────────────┼─────────────────┤\n",
              "│ conv2d_5 (<span style=\"color: #0087ff; text-decoration-color: #0087ff\">Conv2D</span>)                    │ (<span style=\"color: #00d7ff; text-decoration-color: #00d7ff\">None</span>, <span style=\"color: #00af00; text-decoration-color: #00af00\">28</span>, <span style=\"color: #00af00; text-decoration-color: #00af00\">28</span>, <span style=\"color: #00af00; text-decoration-color: #00af00\">128</span>)         │         <span style=\"color: #00af00; text-decoration-color: #00af00\">147,584</span> │\n",
              "├──────────────────────────────────────┼─────────────────────────────┼─────────────────┤\n",
              "│ max_pooling2d_2 (<span style=\"color: #0087ff; text-decoration-color: #0087ff\">MaxPooling2D</span>)       │ (<span style=\"color: #00d7ff; text-decoration-color: #00d7ff\">None</span>, <span style=\"color: #00af00; text-decoration-color: #00af00\">14</span>, <span style=\"color: #00af00; text-decoration-color: #00af00\">14</span>, <span style=\"color: #00af00; text-decoration-color: #00af00\">128</span>)         │               <span style=\"color: #00af00; text-decoration-color: #00af00\">0</span> │\n",
              "├──────────────────────────────────────┼─────────────────────────────┼─────────────────┤\n",
              "│ conv2d_6 (<span style=\"color: #0087ff; text-decoration-color: #0087ff\">Conv2D</span>)                    │ (<span style=\"color: #00d7ff; text-decoration-color: #00d7ff\">None</span>, <span style=\"color: #00af00; text-decoration-color: #00af00\">14</span>, <span style=\"color: #00af00; text-decoration-color: #00af00\">14</span>, <span style=\"color: #00af00; text-decoration-color: #00af00\">256</span>)         │         <span style=\"color: #00af00; text-decoration-color: #00af00\">295,168</span> │\n",
              "├──────────────────────────────────────┼─────────────────────────────┼─────────────────┤\n",
              "│ conv2d_7 (<span style=\"color: #0087ff; text-decoration-color: #0087ff\">Conv2D</span>)                    │ (<span style=\"color: #00d7ff; text-decoration-color: #00d7ff\">None</span>, <span style=\"color: #00af00; text-decoration-color: #00af00\">12</span>, <span style=\"color: #00af00; text-decoration-color: #00af00\">12</span>, <span style=\"color: #00af00; text-decoration-color: #00af00\">256</span>)         │         <span style=\"color: #00af00; text-decoration-color: #00af00\">590,080</span> │\n",
              "├──────────────────────────────────────┼─────────────────────────────┼─────────────────┤\n",
              "│ max_pooling2d_3 (<span style=\"color: #0087ff; text-decoration-color: #0087ff\">MaxPooling2D</span>)       │ (<span style=\"color: #00d7ff; text-decoration-color: #00d7ff\">None</span>, <span style=\"color: #00af00; text-decoration-color: #00af00\">6</span>, <span style=\"color: #00af00; text-decoration-color: #00af00\">6</span>, <span style=\"color: #00af00; text-decoration-color: #00af00\">256</span>)           │               <span style=\"color: #00af00; text-decoration-color: #00af00\">0</span> │\n",
              "├──────────────────────────────────────┼─────────────────────────────┼─────────────────┤\n",
              "│ conv2d_8 (<span style=\"color: #0087ff; text-decoration-color: #0087ff\">Conv2D</span>)                    │ (<span style=\"color: #00d7ff; text-decoration-color: #00d7ff\">None</span>, <span style=\"color: #00af00; text-decoration-color: #00af00\">6</span>, <span style=\"color: #00af00; text-decoration-color: #00af00\">6</span>, <span style=\"color: #00af00; text-decoration-color: #00af00\">512</span>)           │       <span style=\"color: #00af00; text-decoration-color: #00af00\">1,180,160</span> │\n",
              "├──────────────────────────────────────┼─────────────────────────────┼─────────────────┤\n",
              "│ conv2d_9 (<span style=\"color: #0087ff; text-decoration-color: #0087ff\">Conv2D</span>)                    │ (<span style=\"color: #00d7ff; text-decoration-color: #00d7ff\">None</span>, <span style=\"color: #00af00; text-decoration-color: #00af00\">4</span>, <span style=\"color: #00af00; text-decoration-color: #00af00\">4</span>, <span style=\"color: #00af00; text-decoration-color: #00af00\">512</span>)           │       <span style=\"color: #00af00; text-decoration-color: #00af00\">2,359,808</span> │\n",
              "├──────────────────────────────────────┼─────────────────────────────┼─────────────────┤\n",
              "│ max_pooling2d_4 (<span style=\"color: #0087ff; text-decoration-color: #0087ff\">MaxPooling2D</span>)       │ (<span style=\"color: #00d7ff; text-decoration-color: #00d7ff\">None</span>, <span style=\"color: #00af00; text-decoration-color: #00af00\">2</span>, <span style=\"color: #00af00; text-decoration-color: #00af00\">2</span>, <span style=\"color: #00af00; text-decoration-color: #00af00\">512</span>)           │               <span style=\"color: #00af00; text-decoration-color: #00af00\">0</span> │\n",
              "├──────────────────────────────────────┼─────────────────────────────┼─────────────────┤\n",
              "│ dropout (<span style=\"color: #0087ff; text-decoration-color: #0087ff\">Dropout</span>)                    │ (<span style=\"color: #00d7ff; text-decoration-color: #00d7ff\">None</span>, <span style=\"color: #00af00; text-decoration-color: #00af00\">2</span>, <span style=\"color: #00af00; text-decoration-color: #00af00\">2</span>, <span style=\"color: #00af00; text-decoration-color: #00af00\">512</span>)           │               <span style=\"color: #00af00; text-decoration-color: #00af00\">0</span> │\n",
              "├──────────────────────────────────────┼─────────────────────────────┼─────────────────┤\n",
              "│ flatten (<span style=\"color: #0087ff; text-decoration-color: #0087ff\">Flatten</span>)                    │ (<span style=\"color: #00d7ff; text-decoration-color: #00d7ff\">None</span>, <span style=\"color: #00af00; text-decoration-color: #00af00\">2048</span>)                │               <span style=\"color: #00af00; text-decoration-color: #00af00\">0</span> │\n",
              "├──────────────────────────────────────┼─────────────────────────────┼─────────────────┤\n",
              "│ dense (<span style=\"color: #0087ff; text-decoration-color: #0087ff\">Dense</span>)                        │ (<span style=\"color: #00d7ff; text-decoration-color: #00d7ff\">None</span>, <span style=\"color: #00af00; text-decoration-color: #00af00\">1500</span>)                │       <span style=\"color: #00af00; text-decoration-color: #00af00\">3,073,500</span> │\n",
              "├──────────────────────────────────────┼─────────────────────────────┼─────────────────┤\n",
              "│ dropout_1 (<span style=\"color: #0087ff; text-decoration-color: #0087ff\">Dropout</span>)                  │ (<span style=\"color: #00d7ff; text-decoration-color: #00d7ff\">None</span>, <span style=\"color: #00af00; text-decoration-color: #00af00\">1500</span>)                │               <span style=\"color: #00af00; text-decoration-color: #00af00\">0</span> │\n",
              "├──────────────────────────────────────┼─────────────────────────────┼─────────────────┤\n",
              "│ dense_1 (<span style=\"color: #0087ff; text-decoration-color: #0087ff\">Dense</span>)                      │ (<span style=\"color: #00d7ff; text-decoration-color: #00d7ff\">None</span>, <span style=\"color: #00af00; text-decoration-color: #00af00\">38</span>)                  │          <span style=\"color: #00af00; text-decoration-color: #00af00\">57,038</span> │\n",
              "└──────────────────────────────────────┴─────────────────────────────┴─────────────────┘\n",
              "</pre>\n"
            ],
            "text/plain": [
              "┏━━━━━━━━━━━━━━━━━━━━━━━━━━━━━━━━━━━━━━┳━━━━━━━━━━━━━━━━━━━━━━━━━━━━━┳━━━━━━━━━━━━━━━━━┓\n",
              "┃\u001b[1m \u001b[0m\u001b[1mLayer (type)                        \u001b[0m\u001b[1m \u001b[0m┃\u001b[1m \u001b[0m\u001b[1mOutput Shape               \u001b[0m\u001b[1m \u001b[0m┃\u001b[1m \u001b[0m\u001b[1m        Param #\u001b[0m\u001b[1m \u001b[0m┃\n",
              "┡━━━━━━━━━━━━━━━━━━━━━━━━━━━━━━━━━━━━━━╇━━━━━━━━━━━━━━━━━━━━━━━━━━━━━╇━━━━━━━━━━━━━━━━━┩\n",
              "│ conv2d (\u001b[38;5;33mConv2D\u001b[0m)                      │ (\u001b[38;5;45mNone\u001b[0m, \u001b[38;5;34m128\u001b[0m, \u001b[38;5;34m128\u001b[0m, \u001b[38;5;34m32\u001b[0m)        │             \u001b[38;5;34m896\u001b[0m │\n",
              "├──────────────────────────────────────┼─────────────────────────────┼─────────────────┤\n",
              "│ conv2d_1 (\u001b[38;5;33mConv2D\u001b[0m)                    │ (\u001b[38;5;45mNone\u001b[0m, \u001b[38;5;34m126\u001b[0m, \u001b[38;5;34m126\u001b[0m, \u001b[38;5;34m32\u001b[0m)        │           \u001b[38;5;34m9,248\u001b[0m │\n",
              "├──────────────────────────────────────┼─────────────────────────────┼─────────────────┤\n",
              "│ max_pooling2d (\u001b[38;5;33mMaxPooling2D\u001b[0m)         │ (\u001b[38;5;45mNone\u001b[0m, \u001b[38;5;34m63\u001b[0m, \u001b[38;5;34m63\u001b[0m, \u001b[38;5;34m32\u001b[0m)          │               \u001b[38;5;34m0\u001b[0m │\n",
              "├──────────────────────────────────────┼─────────────────────────────┼─────────────────┤\n",
              "│ conv2d_2 (\u001b[38;5;33mConv2D\u001b[0m)                    │ (\u001b[38;5;45mNone\u001b[0m, \u001b[38;5;34m63\u001b[0m, \u001b[38;5;34m63\u001b[0m, \u001b[38;5;34m64\u001b[0m)          │          \u001b[38;5;34m18,496\u001b[0m │\n",
              "├──────────────────────────────────────┼─────────────────────────────┼─────────────────┤\n",
              "│ conv2d_3 (\u001b[38;5;33mConv2D\u001b[0m)                    │ (\u001b[38;5;45mNone\u001b[0m, \u001b[38;5;34m61\u001b[0m, \u001b[38;5;34m61\u001b[0m, \u001b[38;5;34m64\u001b[0m)          │          \u001b[38;5;34m36,928\u001b[0m │\n",
              "├──────────────────────────────────────┼─────────────────────────────┼─────────────────┤\n",
              "│ max_pooling2d_1 (\u001b[38;5;33mMaxPooling2D\u001b[0m)       │ (\u001b[38;5;45mNone\u001b[0m, \u001b[38;5;34m30\u001b[0m, \u001b[38;5;34m30\u001b[0m, \u001b[38;5;34m64\u001b[0m)          │               \u001b[38;5;34m0\u001b[0m │\n",
              "├──────────────────────────────────────┼─────────────────────────────┼─────────────────┤\n",
              "│ conv2d_4 (\u001b[38;5;33mConv2D\u001b[0m)                    │ (\u001b[38;5;45mNone\u001b[0m, \u001b[38;5;34m30\u001b[0m, \u001b[38;5;34m30\u001b[0m, \u001b[38;5;34m128\u001b[0m)         │          \u001b[38;5;34m73,856\u001b[0m │\n",
              "├──────────────────────────────────────┼─────────────────────────────┼─────────────────┤\n",
              "│ conv2d_5 (\u001b[38;5;33mConv2D\u001b[0m)                    │ (\u001b[38;5;45mNone\u001b[0m, \u001b[38;5;34m28\u001b[0m, \u001b[38;5;34m28\u001b[0m, \u001b[38;5;34m128\u001b[0m)         │         \u001b[38;5;34m147,584\u001b[0m │\n",
              "├──────────────────────────────────────┼─────────────────────────────┼─────────────────┤\n",
              "│ max_pooling2d_2 (\u001b[38;5;33mMaxPooling2D\u001b[0m)       │ (\u001b[38;5;45mNone\u001b[0m, \u001b[38;5;34m14\u001b[0m, \u001b[38;5;34m14\u001b[0m, \u001b[38;5;34m128\u001b[0m)         │               \u001b[38;5;34m0\u001b[0m │\n",
              "├──────────────────────────────────────┼─────────────────────────────┼─────────────────┤\n",
              "│ conv2d_6 (\u001b[38;5;33mConv2D\u001b[0m)                    │ (\u001b[38;5;45mNone\u001b[0m, \u001b[38;5;34m14\u001b[0m, \u001b[38;5;34m14\u001b[0m, \u001b[38;5;34m256\u001b[0m)         │         \u001b[38;5;34m295,168\u001b[0m │\n",
              "├──────────────────────────────────────┼─────────────────────────────┼─────────────────┤\n",
              "│ conv2d_7 (\u001b[38;5;33mConv2D\u001b[0m)                    │ (\u001b[38;5;45mNone\u001b[0m, \u001b[38;5;34m12\u001b[0m, \u001b[38;5;34m12\u001b[0m, \u001b[38;5;34m256\u001b[0m)         │         \u001b[38;5;34m590,080\u001b[0m │\n",
              "├──────────────────────────────────────┼─────────────────────────────┼─────────────────┤\n",
              "│ max_pooling2d_3 (\u001b[38;5;33mMaxPooling2D\u001b[0m)       │ (\u001b[38;5;45mNone\u001b[0m, \u001b[38;5;34m6\u001b[0m, \u001b[38;5;34m6\u001b[0m, \u001b[38;5;34m256\u001b[0m)           │               \u001b[38;5;34m0\u001b[0m │\n",
              "├──────────────────────────────────────┼─────────────────────────────┼─────────────────┤\n",
              "│ conv2d_8 (\u001b[38;5;33mConv2D\u001b[0m)                    │ (\u001b[38;5;45mNone\u001b[0m, \u001b[38;5;34m6\u001b[0m, \u001b[38;5;34m6\u001b[0m, \u001b[38;5;34m512\u001b[0m)           │       \u001b[38;5;34m1,180,160\u001b[0m │\n",
              "├──────────────────────────────────────┼─────────────────────────────┼─────────────────┤\n",
              "│ conv2d_9 (\u001b[38;5;33mConv2D\u001b[0m)                    │ (\u001b[38;5;45mNone\u001b[0m, \u001b[38;5;34m4\u001b[0m, \u001b[38;5;34m4\u001b[0m, \u001b[38;5;34m512\u001b[0m)           │       \u001b[38;5;34m2,359,808\u001b[0m │\n",
              "├──────────────────────────────────────┼─────────────────────────────┼─────────────────┤\n",
              "│ max_pooling2d_4 (\u001b[38;5;33mMaxPooling2D\u001b[0m)       │ (\u001b[38;5;45mNone\u001b[0m, \u001b[38;5;34m2\u001b[0m, \u001b[38;5;34m2\u001b[0m, \u001b[38;5;34m512\u001b[0m)           │               \u001b[38;5;34m0\u001b[0m │\n",
              "├──────────────────────────────────────┼─────────────────────────────┼─────────────────┤\n",
              "│ dropout (\u001b[38;5;33mDropout\u001b[0m)                    │ (\u001b[38;5;45mNone\u001b[0m, \u001b[38;5;34m2\u001b[0m, \u001b[38;5;34m2\u001b[0m, \u001b[38;5;34m512\u001b[0m)           │               \u001b[38;5;34m0\u001b[0m │\n",
              "├──────────────────────────────────────┼─────────────────────────────┼─────────────────┤\n",
              "│ flatten (\u001b[38;5;33mFlatten\u001b[0m)                    │ (\u001b[38;5;45mNone\u001b[0m, \u001b[38;5;34m2048\u001b[0m)                │               \u001b[38;5;34m0\u001b[0m │\n",
              "├──────────────────────────────────────┼─────────────────────────────┼─────────────────┤\n",
              "│ dense (\u001b[38;5;33mDense\u001b[0m)                        │ (\u001b[38;5;45mNone\u001b[0m, \u001b[38;5;34m1500\u001b[0m)                │       \u001b[38;5;34m3,073,500\u001b[0m │\n",
              "├──────────────────────────────────────┼─────────────────────────────┼─────────────────┤\n",
              "│ dropout_1 (\u001b[38;5;33mDropout\u001b[0m)                  │ (\u001b[38;5;45mNone\u001b[0m, \u001b[38;5;34m1500\u001b[0m)                │               \u001b[38;5;34m0\u001b[0m │\n",
              "├──────────────────────────────────────┼─────────────────────────────┼─────────────────┤\n",
              "│ dense_1 (\u001b[38;5;33mDense\u001b[0m)                      │ (\u001b[38;5;45mNone\u001b[0m, \u001b[38;5;34m38\u001b[0m)                  │          \u001b[38;5;34m57,038\u001b[0m │\n",
              "└──────────────────────────────────────┴─────────────────────────────┴─────────────────┘\n"
            ]
          },
          "metadata": {},
          "output_type": "display_data"
        },
        {
          "data": {
            "text/html": [
              "<pre style=\"white-space:pre;overflow-x:auto;line-height:normal;font-family:Menlo,'DejaVu Sans Mono',consolas,'Courier New',monospace\"><span style=\"font-weight: bold\"> Total params: </span><span style=\"color: #00af00; text-decoration-color: #00af00\">7,842,762</span> (29.92 MB)\n",
              "</pre>\n"
            ],
            "text/plain": [
              "\u001b[1m Total params: \u001b[0m\u001b[38;5;34m7,842,762\u001b[0m (29.92 MB)\n"
            ]
          },
          "metadata": {},
          "output_type": "display_data"
        },
        {
          "data": {
            "text/html": [
              "<pre style=\"white-space:pre;overflow-x:auto;line-height:normal;font-family:Menlo,'DejaVu Sans Mono',consolas,'Courier New',monospace\"><span style=\"font-weight: bold\"> Trainable params: </span><span style=\"color: #00af00; text-decoration-color: #00af00\">7,842,762</span> (29.92 MB)\n",
              "</pre>\n"
            ],
            "text/plain": [
              "\u001b[1m Trainable params: \u001b[0m\u001b[38;5;34m7,842,762\u001b[0m (29.92 MB)\n"
            ]
          },
          "metadata": {},
          "output_type": "display_data"
        },
        {
          "data": {
            "text/html": [
              "<pre style=\"white-space:pre;overflow-x:auto;line-height:normal;font-family:Menlo,'DejaVu Sans Mono',consolas,'Courier New',monospace\"><span style=\"font-weight: bold\"> Non-trainable params: </span><span style=\"color: #00af00; text-decoration-color: #00af00\">0</span> (0.00 B)\n",
              "</pre>\n"
            ],
            "text/plain": [
              "\u001b[1m Non-trainable params: \u001b[0m\u001b[38;5;34m0\u001b[0m (0.00 B)\n"
            ]
          },
          "metadata": {},
          "output_type": "display_data"
        }
      ]
    },
    {
      "cell_type": "markdown",
      "source": [
        "##Model Training"
      ],
      "metadata": {
        "id": "fViQbnRJpkqE"
      }
    },
    {
      "cell_type": "code",
      "source": [
        "training_history = model.fit(x = training_set, validation_data = validation_set, epochs = 10)"
      ],
      "metadata": {
        "colab": {
          "base_uri": "https://localhost:8080/"
        },
        "id": "FOK_rOL7l_qg",
        "outputId": "3ceabe3c-3e4e-4f32-f075-f6167b563af0"
      },
      "execution_count": null,
      "outputs": [
        {
          "output_type": "stream",
          "name": "stdout",
          "text": [
            "Epoch 1/10\n",
            "\u001b[1m2197/2197\u001b[0m \u001b[32m━━━━━━━━━━━━━━━━━━━━\u001b[0m\u001b[37m\u001b[0m \u001b[1m10350s\u001b[0m 5s/step - accuracy: 0.3897 - loss: 2.1677 - val_accuracy: 0.8292 - val_loss: 0.5456\n",
            "Epoch 2/10\n",
            "\u001b[1m1405/2197\u001b[0m \u001b[32m━━━━━━━━━━━━\u001b[0m\u001b[37m━━━━━━━━\u001b[0m \u001b[1m58:38\u001b[0m 4s/step - accuracy: 0.8093 - loss: 0.6034"
          ]
        }
      ]
    },
    {
      "cell_type": "markdown",
      "source": [
        "#Model Evaluation"
      ],
      "metadata": {
        "id": "gh4_D_lgEkNc"
      }
    },
    {
      "cell_type": "code",
      "source": [
        "#Model evaluation on Training set\n",
        "train_loss, train_acc = model.evaluate(training_set)"
      ],
      "metadata": {
        "id": "X75Jlkjnq7dv"
      },
      "execution_count": null,
      "outputs": []
    },
    {
      "cell_type": "code",
      "source": [
        "print(train_loss, train_acc)"
      ],
      "metadata": {
        "id": "BjpWCnArE4CT"
      },
      "execution_count": null,
      "outputs": []
    },
    {
      "cell_type": "code",
      "source": [
        "#Model evaluation on Training set\n",
        "val_loss, val_acc = model.evaluate(validation_set)"
      ],
      "metadata": {
        "id": "BBOTn4qGE8X1"
      },
      "execution_count": null,
      "outputs": []
    },
    {
      "cell_type": "code",
      "source": [
        "print(val_loss, val_acc)"
      ],
      "metadata": {
        "id": "rKskpU7HFKCW"
      },
      "execution_count": null,
      "outputs": []
    },
    {
      "cell_type": "markdown",
      "source": [
        "#Saving Model"
      ],
      "metadata": {
        "id": "wFoS-ZnlFVyX"
      }
    },
    {
      "cell_type": "code",
      "source": [
        "model.save(\"trained_model.keras\") #or \"trained_model.h5\" then the size will be very large. Keras is better"
      ],
      "metadata": {
        "id": "MaJwYRsBFdfF"
      },
      "execution_count": null,
      "outputs": []
    },
    {
      "cell_type": "code",
      "source": [
        "training_history.history"
      ],
      "metadata": {
        "id": "BZYZnOZAFl5E"
      },
      "execution_count": null,
      "outputs": []
    },
    {
      "cell_type": "code",
      "source": [
        "#Recording history in json\n",
        "import json\n",
        "with open(\"training_history.json\", \"w\") as f:\n",
        "  json.dump(training_history.history, f)"
      ],
      "metadata": {
        "id": "X_sVEoJMGFPs"
      },
      "execution_count": null,
      "outputs": []
    },
    {
      "cell_type": "markdown",
      "source": [
        "#Accuracy Visualization"
      ],
      "metadata": {
        "id": "eTZIUbxXGsbJ"
      }
    },
    {
      "cell_type": "code",
      "source": [
        "epochs = [i for i in range(1, 11)]\n",
        "plt.plot(epochs, training_history.history[\"accuracy\"], color = \"red\", label = \"Training accuracy\")\n",
        "plt.plot(epochs, training_history.history[\"accuracy\"], color = \"blue\", label = \"Validation accuracy\")\n",
        "plt.xlabel(\"No. of epochs\")\n",
        "plt.ylabel(\"Accuracy result\")\n",
        "plt.title(\"Visualization of accuracy result\")\n",
        "plt.legend()\n",
        "plt.show()"
      ],
      "metadata": {
        "id": "58Z5nDYMGdTb"
      },
      "execution_count": null,
      "outputs": []
    },
    {
      "cell_type": "markdown",
      "source": [
        "##Some other matrix for model evaluation"
      ],
      "metadata": {
        "id": "ksvqV61oIO98"
      }
    },
    {
      "cell_type": "code",
      "source": [
        "class_name = validation_set.class_names\n",
        "class_name"
      ],
      "metadata": {
        "id": "-CCvMoY0GqxO"
      },
      "execution_count": null,
      "outputs": []
    },
    {
      "cell_type": "code",
      "source": [
        "test_set = tf.keras.utils.image_dataset_from_directory(\n",
        "    \"/content/New Plant Diseases Dataset(Augmented)/New Plant Diseases Dataset(Augmented)/valid\",\n",
        "    labels = \"inferred\",\n",
        "    label_mode = \"categorical\",\n",
        "    class_names = None,\n",
        "    color_mode = \"rgb\",\n",
        "    batch_size = 32,\n",
        "    image_size = (128, 128),\n",
        "    shuffle = False,\n",
        "    seed = None,\n",
        "    validation_split = None,\n",
        "    subset = None,\n",
        "    interpolation = \"bilinear\",\n",
        "    follow_links = False,\n",
        "    crop_to_aspect_ratio = False,\n",
        "    data_format = None)"
      ],
      "metadata": {
        "id": "LlRmQUS0GqpX"
      },
      "execution_count": null,
      "outputs": []
    },
    {
      "cell_type": "code",
      "source": [
        "y_pred = model.predict(test_set)\n",
        "y_pred, y_pred.shape"
      ],
      "metadata": {
        "id": "x_W5FJrmGqdt"
      },
      "execution_count": null,
      "outputs": []
    },
    {
      "cell_type": "code",
      "source": [
        "predicted_categories = tf.argmax(y_pred, axis = 1)\n",
        "predicted_categories"
      ],
      "metadata": {
        "id": "sKsMYGdbI_X0"
      },
      "execution_count": null,
      "outputs": []
    },
    {
      "cell_type": "code",
      "source": [
        "true_categories = tf.concat([y for x, y in test_set], axis = 0)\n",
        "true_categories"
      ],
      "metadata": {
        "id": "_yzyuQjeGp_-"
      },
      "execution_count": null,
      "outputs": []
    },
    {
      "cell_type": "code",
      "source": [
        "y_true = tf.argmax(true_categories, axis = 1)\n",
        "y_true"
      ],
      "metadata": {
        "id": "8Vu7fijzJAE7"
      },
      "execution_count": null,
      "outputs": []
    },
    {
      "cell_type": "code",
      "source": [
        "from sklearn.metrics import classification_report\n",
        "classification_report(y_true, predicted_categories, target_names = class_name)"
      ],
      "metadata": {
        "id": "7kTlBvNrJAp6"
      },
      "execution_count": null,
      "outputs": []
    },
    {
      "cell_type": "code",
      "source": [
        "cm = confusion_matrix(y_true, predicted_categories)\n",
        "cm"
      ],
      "metadata": {
        "id": "_jIsqk16Mwz5"
      },
      "execution_count": null,
      "outputs": []
    },
    {
      "cell_type": "markdown",
      "source": [
        "##Confusion Matrix Visualaziation"
      ],
      "metadata": {
        "id": "JI-Ko3mzOQJS"
      }
    },
    {
      "cell_type": "code",
      "source": [
        "plt.figure(figsize = (40, 40))\n",
        "sns.heatmap(cm, annot = True )\n",
        "plt.xlabel(\"Predicted class\")\n",
        "plt.ylabel(\"Actual class\")\n",
        "plt.title(\"Plant disease prediction confusion matrix\")\n",
        "plt.show()"
      ],
      "metadata": {
        "id": "cisvmgKQMws2"
      },
      "execution_count": null,
      "outputs": []
    },
    {
      "cell_type": "code",
      "source": [],
      "metadata": {
        "id": "54JVo3RiMwlR"
      },
      "execution_count": null,
      "outputs": []
    }
  ]
}